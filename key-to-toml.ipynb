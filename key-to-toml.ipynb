{
 "cells": [
  {
   "cell_type": "code",
   "execution_count": 2,
   "metadata": {},
   "outputs": [],
   "source": [
    "!mkdir .streamlit"
   ]
  },
  {
   "cell_type": "code",
   "execution_count": 4,
   "metadata": {},
   "outputs": [],
   "source": [
    "import toml\n",
    "output_file = \".streamlit/secrets.toml\"\n",
    "with open(\"myproject01-be1b7-firebase-adminsdk-1mh85-36f2d814a2.json\") as f:\n",
    "    json_text = f.read()\n",
    "config = {\"textkey\": json_text}\n",
    "toml_config = toml.dumps(config)\n",
    "with open(output_file, \"w\") as target:\n",
    "    target.write(toml_config)\n"
   ]
  }
 ],
 "metadata": {
  "kernelspec": {
   "display_name": "env01",
   "language": "python",
   "name": "python3"
  },
  "language_info": {
   "codemirror_mode": {
    "name": "ipython",
    "version": 3
   },
   "file_extension": ".py",
   "mimetype": "text/x-python",
   "name": "python",
   "nbconvert_exporter": "python",
   "pygments_lexer": "ipython3",
   "version": "3.9.2"
  }
 },
 "nbformat": 4,
 "nbformat_minor": 2
}
