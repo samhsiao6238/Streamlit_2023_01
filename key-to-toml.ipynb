{
 "cells": [
  {
   "cell_type": "code",
   "execution_count": 2,
   "metadata": {},
   "outputs": [],
   "source": [
    "!mkdir .streamlit"
   ]
  },
  {
   "cell_type": "code",
   "execution_count": 5,
   "metadata": {},
   "outputs": [],
   "source": [
    "import toml\n",
    "output_file = \".streamlit/secrets.toml\"\n",
    "with open(\"myproject01-be1b7-firebase-adminsdk-1mh85-36f2d814a2.json\") as f:\n",
    "    json_text = f.read()\n",
    "config = {\"textkey\": json_text}\n",
    "toml_config = toml.dumps(config)\n",
    "with open(output_file, \"w\") as target:\n",
    "    target.write(toml_config)\n"
   ]
  },
  {
   "cell_type": "markdown",
   "metadata": {},
   "source": []
  },
  {
   "cell_type": "code",
   "execution_count": 6,
   "metadata": {},
   "outputs": [
    {
     "name": "stdout",
     "output_type": "stream",
     "text": [
      "rm '.gitignore'\n",
      "rm 'README.md'\n",
      "rm 'app.py'\n",
      "rm 'app_01.py'\n",
      "rm 'app_02.ipynb'\n",
      "rm 'app_02.py'\n",
      "rm 'app_03.py'\n",
      "rm 'app_04.py'\n",
      "rm 'app_05.py'\n",
      "rm 'app_6.py'\n",
      "rm 'key-to-toml.ipynb'\n",
      "rm 'output.txt'\n",
      "rm 'requirements.txt'\n",
      "rm 'temp_app.py'\n"
     ]
    }
   ],
   "source": [
    "!git rm --cached -r ."
   ]
  }
 ],
 "metadata": {
  "kernelspec": {
   "display_name": "env01",
   "language": "python",
   "name": "python3"
  },
  "language_info": {
   "codemirror_mode": {
    "name": "ipython",
    "version": 3
   },
   "file_extension": ".py",
   "mimetype": "text/x-python",
   "name": "python",
   "nbconvert_exporter": "python",
   "pygments_lexer": "ipython3",
   "version": "3.9.2"
  }
 },
 "nbformat": 4,
 "nbformat_minor": 2
}
