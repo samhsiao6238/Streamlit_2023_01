{
 "cells": [
  {
   "cell_type": "code",
   "execution_count": 2,
   "metadata": {},
   "outputs": [],
   "source": [
    "!mkdir .streamlit"
   ]
  },
  {
   "cell_type": "code",
   "execution_count": 5,
   "metadata": {},
   "outputs": [],
   "source": [
    "# 載入 toml\n",
    "import toml\n",
    "# 設定轉換後輸出檔案的路徑\n",
    "output_file = \".streamlit/secrets.toml\"\n",
    "# 讀取權證檔案\n",
    "with open(\"myproject01-be1b7-firebase-adminsdk-1mh85-36f2d814a2.json\") as f:\n",
    "    # 先讀取這個 JSON 檔案\n",
    "    json_text = f.read()\n",
    "# 給這個檔案一個 key\n",
    "config = {\"FIREBASE_CONFIG_STR\": json_text}\n",
    "# 透過 toml 進行轉換\n",
    "toml_config = toml.dumps(config)\n",
    "# 寫入指定的目標檔案\n",
    "with open(output_file, \"w\") as target:\n",
    "    target.write(toml_config)"
   ]
  },
  {
   "cell_type": "markdown",
   "metadata": {},
   "source": [
    "移除已追蹤的文件"
   ]
  },
  {
   "cell_type": "code",
   "execution_count": 6,
   "metadata": {},
   "outputs": [
    {
     "name": "stdout",
     "output_type": "stream",
     "text": [
      "rm '.gitignore'\n",
      "rm 'README.md'\n",
      "rm 'app.py'\n",
      "rm 'app_01.py'\n",
      "rm 'app_02.ipynb'\n",
      "rm 'app_02.py'\n",
      "rm 'app_03.py'\n",
      "rm 'app_04.py'\n",
      "rm 'app_05.py'\n",
      "rm 'app_6.py'\n",
      "rm 'key-to-toml.ipynb'\n",
      "rm 'output.txt'\n",
      "rm 'requirements.txt'\n",
      "rm 'temp_app.py'\n"
     ]
    }
   ],
   "source": [
    "!git rm --cached -r ."
   ]
  }
 ],
 "metadata": {
  "kernelspec": {
   "display_name": "env01",
   "language": "python",
   "name": "python3"
  },
  "language_info": {
   "codemirror_mode": {
    "name": "ipython",
    "version": 3
   },
   "file_extension": ".py",
   "mimetype": "text/x-python",
   "name": "python",
   "nbconvert_exporter": "python",
   "pygments_lexer": "ipython3",
   "version": "3.9.2"
  }
 },
 "nbformat": 4,
 "nbformat_minor": 2
}
