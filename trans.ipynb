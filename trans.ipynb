{
 "cells": [
  {
   "cell_type": "code",
   "execution_count": 2,
   "metadata": {},
   "outputs": [
    {
     "name": "stdout",
     "output_type": "stream",
     "text": [
      "已將輸出保存到 output.txt 文件中。\n"
     ]
    }
   ],
   "source": [
    "\n",
    "# 導入 json\n",
    "import json\n",
    "\n",
    "# 權杖檔案路徑\n",
    "_PATH_ = 'myproject01-be1b7-firebase-adminsdk-1mh85-3ede5c2672.json'\n",
    "# 讀取\n",
    "with open(_PATH_) as f:\n",
    "    firebase_config = json.load(f)\n",
    "# 輸出  \n",
    "firebase_config_str = json.dumps(firebase_config)\n",
    "# 儲存到 .txt 文件，並加上指定的格式\n",
    "formatted_str = f'FIREBASE_CONFIG_STR = \"\"\"{firebase_config_str}\"\"\"'\n",
    "with open('output.txt', 'w') as out_file:\n",
    "    out_file.write(formatted_str)\n",
    "#\n",
    "print(\"已將輸出保存到 output.txt 文件中。\")\n"
   ]
  }
 ],
 "metadata": {
  "kernelspec": {
   "display_name": "env01",
   "language": "python",
   "name": "python3"
  },
  "language_info": {
   "codemirror_mode": {
    "name": "ipython",
    "version": 3
   },
   "file_extension": ".py",
   "mimetype": "text/x-python",
   "name": "python",
   "nbconvert_exporter": "python",
   "pygments_lexer": "ipython3",
   "version": "3.9.2"
  }
 },
 "nbformat": 4,
 "nbformat_minor": 2
}
